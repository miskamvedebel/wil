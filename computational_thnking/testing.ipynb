{
 "cells": [
  {
   "cell_type": "code",
   "execution_count": 2,
   "metadata": {},
   "outputs": [],
   "source": [
    "from graphs import *"
   ]
  },
  {
   "cell_type": "code",
   "execution_count": 22,
   "metadata": {},
   "outputs": [
    {
     "data": {
      "text/plain": [
       "<graphs.Digraph at 0x7fbc2080bbe0>"
      ]
     },
     "execution_count": 22,
     "metadata": {},
     "output_type": "execute_result"
    }
   ],
   "source": [
    "g = buildCityGraph(Digraph)\n",
    "g"
   ]
  },
  {
   "cell_type": "code",
   "execution_count": 37,
   "metadata": {},
   "outputs": [],
   "source": [
    "nodes = []\n",
    "nodes.append(Node(\"ABC\")) # nodes[0]\n",
    "nodes.append(Node(\"ACB\")) # nodes[1]\n",
    "nodes.append(Node(\"BAC\")) # nodes[2]\n",
    "nodes.append(Node(\"BCA\")) # nodes[3]\n",
    "nodes.append(Node(\"CAB\")) # nodes[4]\n",
    "nodes.append(Node(\"CBA\")) # nodes[5]\n",
    "\n",
    "g = Graph()\n",
    "for n in nodes:\n",
    "    g.addNode(n)\n",
    "pairs = []\n",
    "for node in nodes:\n",
    "    for node2 in nodes:\n",
    "        if node.getName() != node2.getName():\n",
    "            cur = node.getName()\n",
    "            nxt = node2.getName()\n",
    "            if cur[0] == nxt[0] or cur[-1] == nxt[-1]:\n",
    "            \n",
    "                pairs.append((cur, nxt))\n",
    "pairs = set([tuple(sorted(x)) for x in pairs])\n",
    "for pair in pairs:\n",
    "    g.addEdge(Edge(g.getNode(name=pair[0]), g.getNode(name=pair[1])))"
   ]
  },
  {
   "cell_type": "code",
   "execution_count": 44,
   "metadata": {},
   "outputs": [],
   "source": [
    "import math\n",
    "\n",
    "class Position(object):\n",
    "    \"\"\"\n",
    "    A Position represents a location in a two-dimensional room.\n",
    "    \"\"\"\n",
    "    def __init__(self, x, y):\n",
    "        \"\"\"\n",
    "        Initializes a position with coordinates (x, y).\n",
    "        \"\"\"\n",
    "        self.x = x\n",
    "        self.y = y\n",
    "        \n",
    "    def getX(self):\n",
    "        return self.x\n",
    "    \n",
    "    def getY(self):\n",
    "        return self.y\n",
    "    \n",
    "    def getNewPosition(self, angle, speed):\n",
    "        \"\"\"\n",
    "        Computes and returns the new Position after a single clock-tick has\n",
    "        passed, with this object as the current position, and with the\n",
    "        specified angle and speed.\n",
    "\n",
    "        Does NOT test whether the returned position fits inside the room.\n",
    "\n",
    "        angle: number representing angle in degrees, 0 <= angle < 360\n",
    "        speed: positive float representing speed\n",
    "\n",
    "        Returns: a Position object representing the new position.\n",
    "        \"\"\"\n",
    "        old_x, old_y = self.getX(), self.getY()\n",
    "        angle = float(angle)\n",
    "        # Compute the change in position\n",
    "        delta_y = speed * math.cos(math.radians(angle))\n",
    "        delta_x = speed * math.sin(math.radians(angle))\n",
    "        # Add that to the existing position\n",
    "        new_x = old_x + delta_x\n",
    "        new_y = old_y + delta_y\n",
    "        return Position(new_x, new_y)\n",
    "\n",
    "    def __str__(self):  \n",
    "        return \"(%0.2f, %0.2f)\" % (self.x, self.y)"
   ]
  },
  {
   "cell_type": "code",
   "execution_count": 45,
   "metadata": {},
   "outputs": [],
   "source": [
    "pos = Position(1, 2)"
   ]
  },
  {
   "cell_type": "code",
   "execution_count": 55,
   "metadata": {},
   "outputs": [
    {
     "data": {
      "text/plain": [
       "4"
      ]
     },
     "execution_count": 55,
     "metadata": {},
     "output_type": "execute_result"
    }
   ],
   "source": [
    "math.floor(pos.getNewPosition(90, 3.6).getX())"
   ]
  },
  {
   "cell_type": "code",
   "execution_count": 48,
   "metadata": {},
   "outputs": [],
   "source": [
    "width = 6\n",
    "height = 7"
   ]
  },
  {
   "cell_type": "code",
   "execution_count": 52,
   "metadata": {},
   "outputs": [],
   "source": [
    "net = {row: [0] * width for row in range(height)}"
   ]
  },
  {
   "cell_type": "code",
   "execution_count": 57,
   "metadata": {},
   "outputs": [],
   "source": [
    "net[2][1] = 1\n",
    "net[2][4] = 1"
   ]
  },
  {
   "cell_type": "code",
   "execution_count": 61,
   "metadata": {},
   "outputs": [
    {
     "data": {
      "text/plain": [
       "2"
      ]
     },
     "execution_count": 61,
     "metadata": {},
     "output_type": "execute_result"
    }
   ],
   "source": [
    "sum([vv for k, v in net.items() for vv in v])"
   ]
  },
  {
   "cell_type": "code",
   "execution_count": 62,
   "metadata": {},
   "outputs": [],
   "source": [
    "import random"
   ]
  },
  {
   "cell_type": "code",
   "execution_count": 65,
   "metadata": {},
   "outputs": [
    {
     "data": {
      "text/plain": [
       "2"
      ]
     },
     "execution_count": 65,
     "metadata": {},
     "output_type": "execute_result"
    }
   ],
   "source": [
    "random.randint(0, width)"
   ]
  },
  {
   "cell_type": "code",
   "execution_count": 102,
   "metadata": {},
   "outputs": [],
   "source": [
    "# Enter your code for RectangularRoom in this box\n",
    "class RectangularRoom(object):\n",
    "    \"\"\"\n",
    "    A RectangularRoom represents a rectangular region containing clean or dirty\n",
    "    tiles.\n",
    "\n",
    "    A room has a width and a height and contains (width * height) tiles. At any\n",
    "    particular time, each of these tiles is either clean or dirty.\n",
    "    \"\"\"\n",
    "    def __init__(self, width, height):\n",
    "        \"\"\"\n",
    "        Initializes a rectangular room with the specified width and height.\n",
    "\n",
    "        Initially, no tiles in the room have been cleaned.\n",
    "\n",
    "        width: an integer > 0\n",
    "        height: an integer > 0\n",
    "        \"\"\"\n",
    "\n",
    "        if not(isinstance(width, int) and isinstance(height, int) and width > 0 and height > 0):\n",
    "            raise TypeError\n",
    "\n",
    "        self.width = width\n",
    "        self.height =  height\n",
    "        self.net = {row: [0] * self.width for row in range(self.height)}\n",
    "\n",
    "    \n",
    "    def cleanTileAtPosition(self, pos):\n",
    "        \"\"\"\n",
    "        Mark the tile under the position POS as cleaned.\n",
    "\n",
    "        Assumes that POS represents a valid position inside this room.\n",
    "\n",
    "        pos: a Position\n",
    "        \"\"\"\n",
    "        \n",
    "        x = math.floor(pos.getX())\n",
    "        y = math.floor(pos.getY())\n",
    "\n",
    "        self.net[y][x] = 1\n",
    "\n",
    "\n",
    "\n",
    "    def isTileCleaned(self, m, n):\n",
    "        \"\"\"\n",
    "        Return True if the tile (m, n) has been cleaned.\n",
    "\n",
    "        Assumes that (m, n) represents a valid tile inside the room.\n",
    "\n",
    "        m: an integer\n",
    "        n: an integer\n",
    "        returns: True if (m, n) is cleaned, False otherwise\n",
    "        \"\"\"\n",
    "        \n",
    "        return self.net[n][m] == 1\n",
    "    \n",
    "    def getNumTiles(self):\n",
    "        \"\"\"\n",
    "        Return the total number of tiles in the room.\n",
    "\n",
    "        returns: an integer\n",
    "        \"\"\"\n",
    "        \n",
    "        return self.width * self.height\n",
    "\n",
    "    def getNumCleanedTiles(self):\n",
    "        \"\"\"\n",
    "        Return the total number of clean tiles in the room.\n",
    "\n",
    "        returns: an integer\n",
    "        \"\"\"\n",
    "        \n",
    "        return sum([vv for k, v in self.net.items() for vv in v])\n",
    "\n",
    "    def getRandomPosition(self):\n",
    "        \"\"\"\n",
    "        Return a random position inside the room.\n",
    "\n",
    "        returns: a Position object.\n",
    "        \"\"\"\n",
    "        \n",
    "        return Position(random.uniform(0, self.width - 1), random.uniform(0, self.height - 1))\n",
    "\n",
    "    def isPositionInRoom(self, pos):\n",
    "        \"\"\"\n",
    "        Return True if pos is inside the room.\n",
    "\n",
    "        pos: a Position object.\n",
    "        returns: True if pos is in the room, False otherwise.\n",
    "        \"\"\"\n",
    "        \n",
    "        return pos.getX() < self.width and pos.getY() < self.height and pos.getX() >= 0 and pos.getY() >= 0"
   ]
  },
  {
   "cell_type": "code",
   "execution_count": 104,
   "metadata": {},
   "outputs": [],
   "source": [
    "room = RectangularRoom(4, 6)"
   ]
  },
  {
   "cell_type": "code",
   "execution_count": 105,
   "metadata": {},
   "outputs": [
    {
     "data": {
      "text/plain": [
       "False"
      ]
     },
     "execution_count": 105,
     "metadata": {},
     "output_type": "execute_result"
    }
   ],
   "source": [
    "room.isPositionInRoom(Position(-0.1, 2))"
   ]
  },
  {
   "cell_type": "code",
   "execution_count": 106,
   "metadata": {},
   "outputs": [
    {
     "data": {
      "text/plain": [
       "{0: [0, 0, 0, 0],\n",
       " 1: [0, 0, 0, 0],\n",
       " 2: [0, 0, 0, 0],\n",
       " 3: [0, 0, 0, 0],\n",
       " 4: [0, 0, 0, 0],\n",
       " 5: [0, 0, 0, 0]}"
      ]
     },
     "execution_count": 106,
     "metadata": {},
     "output_type": "execute_result"
    }
   ],
   "source": [
    "room.net"
   ]
  },
  {
   "cell_type": "code",
   "execution_count": 108,
   "metadata": {},
   "outputs": [
    {
     "data": {
      "text/plain": [
       "(24, False)"
      ]
     },
     "execution_count": 108,
     "metadata": {},
     "output_type": "execute_result"
    }
   ],
   "source": [
    "room.getNumTiles(), room.isTileCleaned(3, 5)"
   ]
  },
  {
   "cell_type": "code",
   "execution_count": 110,
   "metadata": {},
   "outputs": [
    {
     "data": {
      "text/plain": [
       "True"
      ]
     },
     "execution_count": 110,
     "metadata": {},
     "output_type": "execute_result"
    }
   ],
   "source": [
    "room.isPositionInRoom(room.getRandomPosition())"
   ]
  },
  {
   "cell_type": "code",
   "execution_count": 111,
   "metadata": {},
   "outputs": [],
   "source": [
    "import random\n",
    "def dist1():\n",
    "    return random.random() * 2 - 1\n",
    "\n",
    "def dist2():\n",
    "    if random.random() > 0.5:\n",
    "        return random.random()\n",
    "    else:\n",
    "        return random.random() - 1 "
   ]
  },
  {
   "cell_type": "code",
   "execution_count": 113,
   "metadata": {},
   "outputs": [
    {
     "data": {
      "text/plain": [
       "0"
      ]
     },
     "execution_count": 113,
     "metadata": {},
     "output_type": "execute_result"
    }
   ],
   "source": [
    "res = []\n",
    "\n",
    "for n in range(10000):\n",
    "    res.append(int(dist1() == dist2()))\n",
    "\n",
    "sum(res)"
   ]
  },
  {
   "cell_type": "code",
   "execution_count": 114,
   "metadata": {},
   "outputs": [],
   "source": [
    "def f(x):\n",
    "    # x is an integer\n",
    "    return int(x + random.choice([0.25, 0.5, 0.75]))"
   ]
  },
  {
   "cell_type": "code",
   "execution_count": 120,
   "metadata": {},
   "outputs": [
    {
     "data": {
      "text/plain": [
       "1"
      ]
     },
     "execution_count": 120,
     "metadata": {},
     "output_type": "execute_result"
    }
   ],
   "source": [
    "f(1)"
   ]
  },
  {
   "cell_type": "code",
   "execution_count": 125,
   "metadata": {},
   "outputs": [
    {
     "data": {
      "text/plain": [
       "0.25"
      ]
     },
     "execution_count": 125,
     "metadata": {},
     "output_type": "execute_result"
    }
   ],
   "source": [
    "random.choice([0.25, 0.5, 0.75])"
   ]
  },
  {
   "cell_type": "code",
   "execution_count": 166,
   "metadata": {},
   "outputs": [],
   "source": [
    "import random\n",
    "        \n",
    "def F():\n",
    "    mylist = []\n",
    "    r = 1\n",
    "\n",
    "    if random.random() > 0.99:\n",
    "        r = random.randint(1, 10)\n",
    "    for i in range(r):\n",
    "        random.seed(0)\n",
    "        if random.randint(1, 10) > 3:\n",
    "            number = random.randint(1, 10)\n",
    "            if number not in mylist:\n",
    "                mylist.append(number)\n",
    "    return mylist\n",
    "\n",
    "def G():  \n",
    "    random.seed(0)\n",
    "    mylist = []\n",
    "    r = 1\n",
    "\n",
    "    if random.random() > 0.99:\n",
    "        r = random.randint(1, 10)\n",
    "    for i in range(r):\n",
    "        if random.randint(1, 10) > 3:\n",
    "            number = random.randint(1, 10)\n",
    "            mylist.append(number)\n",
    "    return mylist"
   ]
  },
  {
   "cell_type": "code",
   "execution_count": 167,
   "metadata": {},
   "outputs": [],
   "source": [
    "res = []\n",
    "\n",
    "for _ in range(10_000):\n",
    "    res.append(F())"
   ]
  },
  {
   "cell_type": "code",
   "execution_count": 173,
   "metadata": {},
   "outputs": [
    {
     "data": {
      "text/plain": [
       "5"
      ]
     },
     "execution_count": 173,
     "metadata": {},
     "output_type": "execute_result"
    }
   ],
   "source": [
    "11 // 2"
   ]
  },
  {
   "cell_type": "code",
   "execution_count": 196,
   "metadata": {},
   "outputs": [],
   "source": [
    "def greedySum(L, s):\n",
    "    \"\"\" input: s, positive integer, what the sum should add up to\n",
    "               L, list of unique positive integers sorted in descending order\n",
    "        Use the greedy approach where you find the largest multiplier for \n",
    "        the largest value in L then for the second largest, and so on to \n",
    "        solve the equation s = L[0]*m_0 + L[1]*m_1 + ... + L[n-1]*m_(n-1)\n",
    "        return: the sum of the multipliers or \"no solution\" if greedy approach does \n",
    "                not yield a set of multipliers such that the equation sums to 's'\n",
    "    \"\"\"\n",
    "    if L:\n",
    "        M = [0] * len(L)\n",
    "        check = sum([m * l for m, l in zip(M, L)])\n",
    "        step = 0\n",
    "        ss = s\n",
    "        while check < s and step <= len(L) - 1:\n",
    "            m_temp = ss // L[step]\n",
    "            M[step] = m_temp\n",
    "            ss -= m_temp * L[step]\n",
    "            check = sum([m * l for m, l in zip(M, L)])\n",
    "            step += 1\n",
    "        \n",
    "        if check == s:\n",
    "            return sum(M)\n",
    "        return \"no solution\"\n",
    "    return \"no solution\"\n",
    "\n"
   ]
  },
  {
   "cell_type": "code",
   "execution_count": 194,
   "metadata": {},
   "outputs": [],
   "source": [
    "L = [1]\n",
    "s = 20\n",
    "\n",
    "M = [0] * len(L)\n",
    "check = sum([m * l for m, l in zip(M, L)])\n",
    "step = 0\n",
    "ss = s\n",
    "m_temp = ss // L[step]"
   ]
  },
  {
   "cell_type": "code",
   "execution_count": 199,
   "metadata": {},
   "outputs": [
    {
     "data": {
      "text/plain": [
       "2"
      ]
     },
     "execution_count": 199,
     "metadata": {},
     "output_type": "execute_result"
    }
   ],
   "source": [
    "greedySum([10, 5, 1], 11)"
   ]
  },
  {
   "cell_type": "code",
   "execution_count": 198,
   "metadata": {},
   "outputs": [
    {
     "data": {
      "text/plain": [
       "'no solution'"
      ]
     },
     "execution_count": 198,
     "metadata": {},
     "output_type": "execute_result"
    }
   ],
   "source": [
    "greedySum([], s)"
   ]
  },
  {
   "cell_type": "code",
   "execution_count": 200,
   "metadata": {},
   "outputs": [
    {
     "data": {
      "text/plain": [
       "8"
      ]
     },
     "execution_count": 200,
     "metadata": {},
     "output_type": "execute_result"
    }
   ],
   "source": [
    "greedySum([10, 9, 8, 1], 17)"
   ]
  },
  {
   "cell_type": "code",
   "execution_count": 201,
   "metadata": {},
   "outputs": [
    {
     "data": {
      "text/plain": [
       "4"
      ]
     },
     "execution_count": 201,
     "metadata": {},
     "output_type": "execute_result"
    }
   ],
   "source": [
    "greedySum([10, 8, 5, 1], 13)"
   ]
  },
  {
   "cell_type": "code",
   "execution_count": 202,
   "metadata": {},
   "outputs": [
    {
     "data": {
      "text/plain": [
       "4"
      ]
     },
     "execution_count": 202,
     "metadata": {},
     "output_type": "execute_result"
    }
   ],
   "source": [
    "greedySum([15, 12, 4, 3, 1], 29)"
   ]
  },
  {
   "cell_type": "code",
   "execution_count": 203,
   "metadata": {},
   "outputs": [
    {
     "data": {
      "text/plain": [
       "2"
      ]
     },
     "execution_count": 203,
     "metadata": {},
     "output_type": "execute_result"
    }
   ],
   "source": [
    "greedySum([20, 10, 4, 3, 1], 21)"
   ]
  },
  {
   "cell_type": "code",
   "execution_count": 204,
   "metadata": {},
   "outputs": [
    {
     "data": {
      "text/plain": [
       "2"
      ]
     },
     "execution_count": 204,
     "metadata": {},
     "output_type": "execute_result"
    }
   ],
   "source": [
    "greedySum([21, 10, 8, 3, 1], 11)"
   ]
  },
  {
   "cell_type": "code",
   "execution_count": 205,
   "metadata": {},
   "outputs": [
    {
     "data": {
      "text/plain": [
       "1"
      ]
     },
     "execution_count": 205,
     "metadata": {},
     "output_type": "execute_result"
    }
   ],
   "source": [
    "greedySum([50, 25, 5], 5)"
   ]
  },
  {
   "cell_type": "code",
   "execution_count": 206,
   "metadata": {},
   "outputs": [
    {
     "data": {
      "text/plain": [
       "36"
      ]
     },
     "execution_count": 206,
     "metadata": {},
     "output_type": "execute_result"
    }
   ],
   "source": [
    "greedySum([101, 51, 11, 2, 1], 3000)"
   ]
  },
  {
   "cell_type": "markdown",
   "metadata": {},
   "source": [
    "**Problem 4**"
   ]
  },
  {
   "cell_type": "code",
   "execution_count": 223,
   "metadata": {},
   "outputs": [],
   "source": [
    "import random\n",
    "  \n",
    "# You are given this function - do not modify\n",
    "def createRandomGraph():\n",
    "    \"\"\"Creates a digraph with 7 randomly chosen integer nodes from 0 to 9 and\n",
    "    randomly chosen directed edges (between 10 and 20 edges)\n",
    "    \"\"\"\n",
    "    g = {}\n",
    "    n = random.sample([0,1,2,3,4,5,6,7,8,9], 7)\n",
    "    for i in n:\n",
    "        g[i] = []\n",
    "    edges = random.randint(10,20)\n",
    "    count = 0\n",
    "    while count < edges:\n",
    "        a = random.choice(n)\n",
    "        b = random.choice(n)\n",
    "        if b not in g[a] and a != b:\n",
    "            g[a].append(b)\n",
    "            count += 1\n",
    "    return g\n",
    "\n",
    "# You are given this function - do not modify\n",
    "def findPath(g, start, end, path=[]):\n",
    "    \"\"\" Uses DFS to find a path between a start and an end node in g.\n",
    "    If no path is found, returns None. If a path is found, returns the\n",
    "    list of nodes \"\"\"\n",
    "    path = path + [start]\n",
    "    if start == end:\n",
    "        return path\n",
    "    if not start in g:\n",
    "        return None\n",
    "    for node in g[start]:\n",
    "        if node not in path:\n",
    "            newpath = findPath(g, node, end, path)\n",
    "            if newpath: return newpath\n",
    "    return None\n",
    "                \n",
    "#########################        \n",
    "## WRITE THIS FUNCTION ##\n",
    "#########################        \n",
    "\n",
    "def allReachable(g, n):\n",
    "    \"\"\"\n",
    "    Assumes g is a directed graph and n a node in g.\n",
    "    Returns a sorted list (increasing by node number) containing all \n",
    "    nodes m such that there is a path from n to m in g. \n",
    "    Does not include the node itself.\n",
    "    \"\"\"\n",
    "    # first finding all the unique nodes\n",
    "    keys = set(g.keys())\n",
    "    res = []\n",
    "    for k in keys:\n",
    "        if k != n and findPath(g, start=n, end=k):\n",
    "            res.append(k)\n",
    "    return res"
   ]
  },
  {
   "cell_type": "code",
   "execution_count": 219,
   "metadata": {},
   "outputs": [],
   "source": [
    "g = createRandomGraph()"
   ]
  },
  {
   "cell_type": "code",
   "execution_count": 224,
   "metadata": {},
   "outputs": [
    {
     "data": {
      "text/plain": [
       "[2, 3, 4, 5, 8, 9]"
      ]
     },
     "execution_count": 224,
     "metadata": {},
     "output_type": "execute_result"
    }
   ],
   "source": [
    "allReachable(g, 0)"
   ]
  },
  {
   "cell_type": "code",
   "execution_count": 221,
   "metadata": {},
   "outputs": [
    {
     "data": {
      "text/plain": [
       "{3: [8], 2: [3], 0: [5], 4: [9], 5: [8, 0], 8: [9, 5], 9: [2, 3, 4]}"
      ]
     },
     "execution_count": 221,
     "metadata": {},
     "output_type": "execute_result"
    }
   ],
   "source": [
    "g"
   ]
  },
  {
   "cell_type": "code",
   "execution_count": 212,
   "metadata": {},
   "outputs": [
    {
     "data": {
      "text/plain": [
       "[7, 0, 2]"
      ]
     },
     "execution_count": 212,
     "metadata": {},
     "output_type": "execute_result"
    }
   ],
   "source": [
    "findPath(g, 7, 2)"
   ]
  },
  {
   "cell_type": "markdown",
   "metadata": {},
   "source": [
    "<h1>Drunk simulation</h1>"
   ]
  },
  {
   "cell_type": "code",
   "execution_count": 227,
   "metadata": {},
   "outputs": [],
   "source": [
    "import pylab\n",
    "\n",
    "class Location(object):\n",
    "    def __init__(self, x, y):\n",
    "        \"\"\"x and y are floats\"\"\"\n",
    "        self.x = x\n",
    "        self.y = y\n",
    "        \n",
    "    def move(self, deltaX, deltaY):\n",
    "        \"\"\"deltaX and deltaY are floats\"\"\"\n",
    "        return Location(self.x + deltaX, self.y + deltaY)\n",
    "    \n",
    "    def getX(self):\n",
    "        return self.x\n",
    "    \n",
    "    def getY(self):\n",
    "        return self.y\n",
    "    \n",
    "    def distFrom(self, other):\n",
    "        ox = other.x\n",
    "        oy = other.y\n",
    "        xDist = self.x - ox\n",
    "        yDist = self.y - oy\n",
    "        return (xDist**2 + yDist**2)**0.5\n",
    "    \n",
    "    def __str__(self):\n",
    "        return '<' + str(self.x) + ', ' + str(self.y) + '>'\n",
    "\n",
    "class Field(object):\n",
    "    def __init__(self):\n",
    "        self.drunks = {}\n",
    "        \n",
    "    def addDrunk(self, drunk, loc):\n",
    "        if drunk in self.drunks:\n",
    "            raise ValueError('Duplicate drunk')\n",
    "        else:\n",
    "            self.drunks[drunk] = loc\n",
    "            \n",
    "    def moveDrunk(self, drunk):\n",
    "        if not drunk in self.drunks:\n",
    "            raise ValueError('Drunk not in field')\n",
    "        xDist, yDist = drunk.takeStep()\n",
    "        currentLocation = self.drunks[drunk]\n",
    "        #use move method of Location to get new location\n",
    "        self.drunks[drunk] = currentLocation.move(xDist, yDist)\n",
    "        \n",
    "    def getLoc(self, drunk):\n",
    "        if not drunk in self.drunks:\n",
    "            raise ValueError('Drunk not in field')\n",
    "        return self.drunks[drunk]\n",
    "\n",
    "\n",
    "import random\n",
    "\n",
    "class Drunk(object):\n",
    "    def __init__(self, name):\n",
    "        self.name = name\n",
    "    def __str__(self):\n",
    "        return 'This drunk is named ' + self.name\n",
    "\n",
    "def walkVector(f, d, numSteps):\n",
    "    start = f.getLoc(d)\n",
    "    for s in range(numSteps):\n",
    "        f.moveDrunk(d)\n",
    "    return(f.getLoc(d).getX() - start.getX(),\n",
    "           f.getLoc(d).getY() - start.getY())\n",
    "\n",
    "class UsualDrunk(Drunk):\n",
    "    def takeStep(self):\n",
    "        stepChoices =\\\n",
    "            [(0.0,1.0), (0.0,-1.0), (1.0, 0.0), (-1.0, 0.0)]\n",
    "        return random.choice(stepChoices)\n",
    "\n",
    "class ColdDrunk(Drunk):\n",
    "    def takeStep(self):\n",
    "        stepChoices =\\\n",
    "            [(0.0,0.9), (0.0,-1.03), (1.03, 0.0), (-1.03, 0.0)]\n",
    "        return random.choice(stepChoices)\n",
    "\n",
    "class EDrunk(Drunk):\n",
    "    def takeStep(self):\n",
    "        ang = 2 * math.pi * random.random()\n",
    "        length = 0.5 + 0.5 * random.random()\n",
    "        return (length * math.sin(ang), length * math.cos(ang))\n",
    "\n",
    "class PhotoDrunk(Drunk):\n",
    "    def takeStep(self):\n",
    "        stepChoices =\\\n",
    "                    [(0.0, 0.5),(0.0, -0.5),\n",
    "                     (1.5, 0.0),(-1.5, 0.0)]\n",
    "        return random.choice(stepChoices)\n",
    "\n",
    "class DDrunk(Drunk):\n",
    "    def takeStep(self):\n",
    "        stepChoices =\\\n",
    "                    [(0.85, 0.85), (-0.85, -0.85),\n",
    "                     (-0.56, 0.56), (0.56, -0.56)] \n",
    "        return random.choice(stepChoices)"
   ]
  },
  {
   "cell_type": "code",
   "execution_count": 228,
   "metadata": {},
   "outputs": [],
   "source": [
    "def walk(f, d, numSteps):\n",
    "    start = f.getLoc(d)\n",
    "    for s in range(numSteps):\n",
    "        f.moveDrunk(d)\n",
    "    return start.distFrom(f.getloc(d))\n",
    "\n",
    "def simWalks(numSteps, numTrials, dClass):\n",
    "    Homer = dClass()\n",
    "    origin = Location(0, 0)\n",
    "    distances = []\n",
    "    for t in range(numTrials):\n",
    "        f = Field()\n",
    "        f.addDrunk(Homer, origin)\n",
    "        distances.append(round(walk(f, Homer, numTrials), 1))\n",
    "    return distances"
   ]
  },
  {
   "cell_type": "code",
   "execution_count": 234,
   "metadata": {},
   "outputs": [],
   "source": [
    "import matplotlib.pyplot as plt"
   ]
  },
  {
   "cell_type": "code",
   "execution_count": 241,
   "metadata": {},
   "outputs": [
    {
     "data": {
      "image/png": "[encoded data removed]",
      "text/plain": [
       "<Figure size 432x288 with 1 Axes>"
      ]
     },
     "metadata": {
      "needs_background": "light"
     },
     "output_type": "display_data"
    },
    {
     "data": {
      "image/png": "[encoded data removed]",
      "text/plain": [
       "<Figure size 432x288 with 1 Axes>"
      ]
     },
     "metadata": {
      "needs_background": "light"
     },
     "output_type": "display_data"
    },
    {
     "data": {
      "image/png": "[encoded data removed]",
      "text/plain": [
       "<Figure size 432x288 with 1 Axes>"
      ]
     },
     "metadata": {
      "needs_background": "light"
     },
     "output_type": "display_data"
    },
    {
     "data": {
      "image/png": "[encoded data removed]",
      "text/plain": [
       "<Figure size 432x288 with 1 Axes>"
      ]
     },
     "metadata": {
      "needs_background": "light"
     },
     "output_type": "display_data"
    },
    {
     "data": {
      "image/png": "[encoded data removed]",
      "text/plain": [
       "<Figure size 432x288 with 1 Axes>"
      ]
     },
     "metadata": {
      "needs_background": "light"
     },
     "output_type": "display_data"
    }
   ],
   "source": [
    "\n",
    "NUM_TRIALS = 100_000\n",
    "for cls in [UsualDrunk, ColdDrunk, EDrunk, PhotoDrunk, DDrunk]:\n",
    "    vector = []\n",
    "    for _ in range(NUM_TRIALS):\n",
    "        f = Field()\n",
    "        d = cls('Test')\n",
    "        origin = Location(0, 0)\n",
    "        f.addDrunk(d, loc=origin)\n",
    "        vector.append(walkVector(f, d, 100))\n",
    "\n",
    "    X = list(map(lambda x: x[0], vector))\n",
    "    Y = list(map(lambda x: x[1], vector))\n",
    "    plt.scatter(X, Y)\n",
    "    plt.title(str(cls))\n",
    "    plt.show();\n"
   ]
  },
  {
   "cell_type": "markdown",
   "metadata": {},
   "source": [
    "<h1>Problem 6-1</h1>"
   ]
  },
  {
   "cell_type": "code",
   "execution_count": null,
   "metadata": {},
   "outputs": [],
   "source": [
    "nodes = []\n",
    "for i in range(n):\n",
    "    nodes.append(newNode(i)) # newNode takes one parameter, the number of the node"
   ]
  },
  {
   "cell_type": "markdown",
   "metadata": {},
   "source": [
    "<h1>Last Problem</h1>"
   ]
  },
  {
   "cell_type": "code",
   "execution_count": 251,
   "metadata": {},
   "outputs": [
    {
     "name": "stdout",
     "output_type": "stream",
     "text": [
      "49\n",
      "0\n"
     ]
    }
   ],
   "source": [
    "def solveit(test):\n",
    "    \"\"\" test, a function that takes an int parameter and returns a Boolean\n",
    "        Assumes there exists an int, x, such that test(x) is True\n",
    "        Returns an int, x, with the smallest absolute value such that test(x) is True \n",
    "        In case of ties, return any one of them. \n",
    "    \"\"\"\n",
    "    # IMPLEMENT THIS FUNCTION\n",
    "    for i in range(10_000):\n",
    "        if test(i):\n",
    "            return i\n",
    "    for i in range(-10_000, 0, 1):\n",
    "        if test(i):\n",
    "            return i\n",
    "\n",
    "#### This test case prints 49 ####\n",
    "def f(x):\n",
    "    return (x+15)**0.5 + x**0.5 == 15\n",
    "print(solveit(f))\n",
    "\n",
    "#### This test case prints 0 ####\n",
    "def f(x):\n",
    "    return x == 0\n",
    "print(solveit(f))"
   ]
  },
  {
   "cell_type": "code",
   "execution_count": 252,
   "metadata": {},
   "outputs": [
    {
     "name": "stdout",
     "output_type": "stream",
     "text": [
      "49\n",
      "0\n",
      "-4\n",
      "3\n"
     ]
    }
   ],
   "source": [
    "def f(x):\n",
    "    return (x+15)**0.5 + x**0.5 == 15\n",
    "print(solveit(f))\n",
    "\n",
    "#### This test case prints 0 ####\n",
    "def f(x):\n",
    "    return x == 0\n",
    "print(solveit(f))\n",
    "\n",
    "#### This test case prints 0 ####\n",
    "def f(x):\n",
    "    return x == -4\n",
    "print(solveit(f))\n",
    "\n",
    "#### This test case prints 3 ####\n",
    "def f(x):\n",
    "    return [1,2,3][-x] == 1 and x != 0\n",
    "print(solveit(f))"
   ]
  },
  {
   "cell_type": "markdown",
   "metadata": {},
   "source": [
    "**PSET 3**"
   ]
  },
  {
   "cell_type": "code",
   "execution_count": 260,
   "metadata": {},
   "outputs": [],
   "source": [
    "clearProb = 0.3\n",
    "test = []\n",
    "\n",
    "for _ in range(1000):\n",
    "    t = random.choices([0, 1], cum_weights=(1-clearProb, 1))[0]\n",
    "    test.append(t)"
   ]
  },
  {
   "cell_type": "code",
   "execution_count": 261,
   "metadata": {},
   "outputs": [
    {
     "data": {
      "text/plain": [
       "312"
      ]
     },
     "execution_count": 261,
     "metadata": {},
     "output_type": "execute_result"
    }
   ],
   "source": [
    "sum(test)"
   ]
  },
  {
   "cell_type": "markdown",
   "metadata": {},
   "source": [
    "<h1>Stochastic Viruses</h1>"
   ]
  },
  {
   "cell_type": "code",
   "execution_count": 278,
   "metadata": {},
   "outputs": [],
   "source": [
    "class NoChildException(Exception):\n",
    "    \"\"\"\n",
    "    NoChildException is raised by the reproduce() method in the SimpleVirus\n",
    "    and ResistantVirus classes to indicate that a virus particle does not\n",
    "    reproduce. You can use NoChildException as is, you do not need to\n",
    "    modify/add any code.\n",
    "    \"\"\"\n",
    "\n",
    "\n",
    "class SimpleVirus(object):\n",
    "\n",
    "    \"\"\"\n",
    "    Representation of a simple virus (does not model drug effects/resistance).\n",
    "    \"\"\"\n",
    "    def __init__(self, maxBirthProb, clearProb):\n",
    "        \"\"\"\n",
    "        Initialize a SimpleVirus instance, saves all parameters as attributes\n",
    "        of the instance.        \n",
    "        maxBirthProb: Maximum reproduction probability (a float between 0-1)        \n",
    "        clearProb: Maximum clearance probability (a float between 0-1).\n",
    "        \"\"\"\n",
    "\n",
    "        self.maxBirthProb = maxBirthProb\n",
    "        self.clearProb = clearProb\n",
    "\n",
    "    def getMaxBirthProb(self):\n",
    "        \"\"\"\n",
    "        Returns the max birth probability.\n",
    "        \"\"\"\n",
    "        return self.maxBirthProb\n",
    "\n",
    "    def getClearProb(self):\n",
    "        \"\"\"\n",
    "        Returns the clear probability.\n",
    "        \"\"\"\n",
    "        return self.clearProb\n",
    "\n",
    "    def doesClear(self):\n",
    "        \"\"\" Stochastically determines whether this virus particle is cleared from the\n",
    "        patient's body at a time step. \n",
    "        returns: True with probability self.getClearProb and otherwise returns\n",
    "        False.\n",
    "        \"\"\"\n",
    "\n",
    "        res = random.random()\n",
    "        if res <= self.clearProb:\n",
    "            return True\n",
    "        return False\n",
    "\n",
    "        \n",
    "\n",
    "    \n",
    "    def reproduce(self, popDensity):\n",
    "        \"\"\"\n",
    "        Stochastically determines whether this virus particle reproduces at a\n",
    "        time step. Called by the update() method in the Patient and\n",
    "        TreatedPatient classes. The virus particle reproduces with probability\n",
    "        self.maxBirthProb * (1 - popDensity).\n",
    "        \n",
    "        If this virus particle reproduces, then reproduce() creates and returns\n",
    "        the instance of the offspring SimpleVirus (which has the same\n",
    "        maxBirthProb and clearProb values as its parent).         \n",
    "\n",
    "        popDensity: the population density (a float), defined as the current\n",
    "        virus population divided by the maximum population.         \n",
    "        \n",
    "        returns: a new instance of the SimpleVirus class representing the\n",
    "        offspring of this virus particle. The child should have the same\n",
    "        maxBirthProb and clearProb values as this virus. Raises a\n",
    "        NoChildException if this virus particle does not reproduce.               \n",
    "        \"\"\"\n",
    "\n",
    "        res = random.random()\n",
    "        if res <= self.maxBirthProb * (1 - popDensity):\n",
    "            return SimpleVirus(maxBirthProb=self.maxBirthProb, clearProb=self.clearProb)\n",
    "        else:\n",
    "            raise NoChildException\n",
    "\n",
    "\n",
    "\n",
    "class Patient(object):\n",
    "    \"\"\"\n",
    "    Representation of a simplified patient. The patient does not take any drugs\n",
    "    and his/her virus populations have no drug resistance.\n",
    "    \"\"\"    \n",
    "\n",
    "    def __init__(self, viruses, maxPop):\n",
    "        \"\"\"\n",
    "        Initialization function, saves the viruses and maxPop parameters as\n",
    "        attributes.\n",
    "\n",
    "        viruses: the list representing the virus population (a list of\n",
    "        SimpleVirus instances)\n",
    "\n",
    "        maxPop: the maximum virus population for this patient (an integer)\n",
    "        \"\"\"\n",
    "\n",
    "        self.viruses = viruses\n",
    "        self.maxPop = maxPop\n",
    "\n",
    "    def getViruses(self):\n",
    "        \"\"\"\n",
    "        Returns the viruses in this Patient.\n",
    "        \"\"\"\n",
    "        return self.viruses\n",
    "\n",
    "\n",
    "    def getMaxPop(self):\n",
    "        \"\"\"\n",
    "        Returns the max population.\n",
    "        \"\"\"\n",
    "        return self.maxPop\n",
    "\n",
    "\n",
    "    def getTotalPop(self):\n",
    "        \"\"\"\n",
    "        Gets the size of the current total virus population. \n",
    "        returns: The total virus population (an integer)\n",
    "        \"\"\"\n",
    "        return len(self.viruses)\n",
    "              \n",
    "\n",
    "\n",
    "    def update(self):\n",
    "        \"\"\"\n",
    "        Update the state of the virus population in this patient for a single\n",
    "        time step. update() should execute the following steps in this order:\n",
    "        \n",
    "        - Determine whether each virus particle survives and updates the list\n",
    "        of virus particles accordingly.   \n",
    "        \n",
    "        - The current population density is calculated. This population density\n",
    "          value is used until the next call to update() \n",
    "        \n",
    "        - Based on this value of population density, determine whether each \n",
    "          virus particle should reproduce and add offspring virus particles to \n",
    "          the list of viruses in this patient.                    \n",
    "\n",
    "        returns: The total virus population at the end of the update (an\n",
    "        integer)\n",
    "        \"\"\"\n",
    "\n",
    "        viruses = self.viruses.copy()\n",
    "        for virus in viruses:\n",
    "            if virus.doesClear():\n",
    "                self.viruses.remove(virus)\n",
    "\n",
    "        popDensity = self.getTotalPop() / self.getMaxPop()\n",
    "\n",
    "        viruses_ = self.viruses.copy()\n",
    "        for virus in viruses_:\n",
    "            try:\n",
    "                vv = virus.reproduce(popDensity)\n",
    "                self.viruses.append(vv)\n",
    "            except NoChildException:\n",
    "                continue\n",
    "\n",
    "        return self.getTotalPop()\n",
    "\n",
    "\n",
    "\n",
    "\n",
    "\n",
    "#\n",
    "# PROBLEM 2\n",
    "#\n",
    "def simulationWithoutDrug(numViruses, maxPop, maxBirthProb, clearProb,\n",
    "                          numTrials):\n",
    "    \"\"\"\n",
    "    Run the simulation and plot the graph for problem 3 (no drugs are used,\n",
    "    viruses do not have any drug resistance).    \n",
    "    For each of numTrials trial, instantiates a patient, runs a simulation\n",
    "    for 300 timesteps, and plots the average virus population size as a\n",
    "    function of time.\n",
    "\n",
    "    numViruses: number of SimpleVirus to create for patient (an integer)\n",
    "    maxPop: maximum virus population for patient (an integer)\n",
    "    maxBirthProb: Maximum reproduction probability (a float between 0-1)        \n",
    "    clearProb: Maximum clearance probability (a float between 0-1)\n",
    "    numTrials: number of simulation runs to execute (an integer)\n",
    "    \"\"\"\n",
    "\n",
    "    STEPS = 300\n",
    "    res = {k: 0 for k in range(STEPS + 1)}\n",
    "\n",
    "    for _ in range(numTrials):\n",
    "        patient = Patient(viruses=[SimpleVirus(maxBirthProb, clearProb) for _ in range(numViruses)], maxPop=maxPop)\n",
    "        for step in range(STEPS + 1):\n",
    "            population = patient.update()\n",
    "            res[step] += population\n",
    "    averages = {k: v / numTrials for k, v in res.items()}\n",
    "    p = sorted(averages.items(), key=lambda x: x[0], reverse=False)\n",
    "    X = list(map(lambda x: x[0], p))\n",
    "    Y = list(map(lambda x: x[1], p))\n",
    "    pylab.plot(Y, label = \"SimpleVirus\")\n",
    "    pylab.title(\"SimpleVirus simulation\")\n",
    "    pylab.xlabel(\"Time Steps\")\n",
    "    pylab.ylabel(\"Average Virus Population\")\n",
    "    pylab.legend(loc = \"best\")\n",
    "    pylab.show()"
   ]
  },
  {
   "cell_type": "code",
   "execution_count": 279,
   "metadata": {},
   "outputs": [
    {
     "data": {
      "image/png": "[encoded data removed]",
      "text/plain": [
       "<Figure size 432x288 with 1 Axes>"
      ]
     },
     "metadata": {
      "needs_background": "light"
     },
     "output_type": "display_data"
    }
   ],
   "source": [
    "simulationWithoutDrug(numViruses=100, maxPop=1000, maxBirthProb=0.1, clearProb=0.05,\n",
    "                          numTrials=100)\n"
   ]
  },
  {
   "cell_type": "code",
   "execution_count": 269,
   "metadata": {},
   "outputs": [],
   "source": [
    "import pylab"
   ]
  },
  {
   "cell_type": "code",
   "execution_count": 280,
   "metadata": {},
   "outputs": [
    {
     "data": {
      "text/plain": [
       "False"
      ]
     },
     "execution_count": 280,
     "metadata": {},
     "output_type": "execute_result"
    }
   ],
   "source": [
    "all([False, False])"
   ]
  },
  {
   "cell_type": "code",
   "execution_count": 281,
   "metadata": {},
   "outputs": [
    {
     "data": {
      "text/plain": [
       "0"
      ]
     },
     "execution_count": 281,
     "metadata": {},
     "output_type": "execute_result"
    }
   ],
   "source": [
    "len([])"
   ]
  },
  {
   "cell_type": "code",
   "execution_count": 303,
   "metadata": {},
   "outputs": [],
   "source": [
    "class ResistantVirus(SimpleVirus):\n",
    "    \"\"\"\n",
    "    Representation of a virus which can have drug resistance.\n",
    "    \"\"\"   \n",
    "\n",
    "    def __init__(self, maxBirthProb, clearProb, resistances, mutProb):\n",
    "        \"\"\"\n",
    "        Initialize a ResistantVirus instance, saves all parameters as attributes\n",
    "        of the instance.\n",
    "\n",
    "        maxBirthProb: Maximum reproduction probability (a float between 0-1)       \n",
    "\n",
    "        clearProb: Maximum clearance probability (a float between 0-1).\n",
    "\n",
    "        resistances: A dictionary of drug names (strings) mapping to the state\n",
    "        of this virus particle's resistance (either True or False) to each drug.\n",
    "        e.g. {'guttagonol':False, 'srinol':False}, means that this virus\n",
    "        particle is resistant to neither guttagonol nor srinol.\n",
    "\n",
    "        mutProb: Mutation probability for this virus particle (a float). This is\n",
    "        the probability of the offspring acquiring or losing resistance to a drug.\n",
    "        \"\"\"\n",
    "        super().__init__(maxBirthProb, clearProb)\n",
    "        self.resistances = resistances\n",
    "        self.mutProb = mutProb\n",
    "\n",
    "\n",
    "    def getResistances(self):\n",
    "        \"\"\"\n",
    "        Returns the resistances for this virus.\n",
    "        \"\"\"\n",
    "        return self.resistances\n",
    "\n",
    "    def getMutProb(self):\n",
    "        \"\"\"\n",
    "        Returns the mutation probability for this virus.\n",
    "        \"\"\"\n",
    "        return self.mutProb\n",
    "\n",
    "    def isResistantTo(self, drug):\n",
    "        \"\"\"\n",
    "        Get the state of this virus particle's resistance to a drug. This method\n",
    "        is called by getResistPop() in TreatedPatient to determine how many virus\n",
    "        particles have resistance to a drug.       \n",
    "\n",
    "        drug: The drug (a string)\n",
    "\n",
    "        returns: True if this virus instance is resistant to the drug, False\n",
    "        otherwise.\n",
    "        \"\"\"\n",
    "        \n",
    "        if self.resistances.get(drug, None):\n",
    "            return self.resistances.get(drug)\n",
    "        return False\n",
    "\n",
    "\n",
    "    def reproduce(self, popDensity, activeDrugs):\n",
    "        \"\"\"\n",
    "        Stochastically determines whether this virus particle reproduces at a\n",
    "        time step. Called by the update() method in the TreatedPatient class.\n",
    "\n",
    "        A virus particle will only reproduce if it is resistant to ALL the drugs\n",
    "        in the activeDrugs list. For example, if there are 2 drugs in the\n",
    "        activeDrugs list, and the virus particle is resistant to 1 or no drugs,\n",
    "        then it will NOT reproduce.\n",
    "\n",
    "        Hence, if the virus is resistant to all drugs\n",
    "        in activeDrugs, then the virus reproduces with probability:      \n",
    "\n",
    "        self.maxBirthProb * (1 - popDensity).                       \n",
    "\n",
    "        If this virus particle reproduces, then reproduce() creates and returns\n",
    "        the instance of the offspring ResistantVirus (which has the same\n",
    "        maxBirthProb and clearProb values as its parent). The offspring virus\n",
    "        will have the same maxBirthProb, clearProb, and mutProb as the parent.\n",
    "\n",
    "        For each drug resistance trait of the virus (i.e. each key of\n",
    "        self.resistances), the offspring has probability 1-mutProb of\n",
    "        inheriting that resistance trait from the parent, and probability\n",
    "        mutProb of switching that resistance trait in the offspring.       \n",
    "\n",
    "        For example, if a virus particle is resistant to guttagonol but not\n",
    "        srinol, and self.mutProb is 0.1, then there is a 10% chance that\n",
    "        that the offspring will lose resistance to guttagonol and a 90%\n",
    "        chance that the offspring will be resistant to guttagonol.\n",
    "        There is also a 10% chance that the offspring will gain resistance to\n",
    "        srinol and a 90% chance that the offspring will not be resistant to\n",
    "        srinol.\n",
    "\n",
    "        popDensity: the population density (a float), defined as the current\n",
    "        virus population divided by the maximum population       \n",
    "\n",
    "        activeDrugs: a list of the drug names acting on this virus particle\n",
    "        (a list of strings).\n",
    "\n",
    "        returns: a new instance of the ResistantVirus class representing the\n",
    "        offspring of this virus particle. The child should have the same\n",
    "        maxBirthProb and clearProb values as this virus. Raises a\n",
    "        NoChildException if this virus particle does not reproduce.\n",
    "        \"\"\"\n",
    "\n",
    "        prob = self.maxBirthProb * (1 - popDensity)\n",
    "        check = sum([bool(self.isResistantTo(drug)) for drug in activeDrugs]) == len(activeDrugs)\n",
    "        if check and random.random() <= prob:\n",
    "            resist = {k: v for k, v in self.resistances.items()}\n",
    "            for drug in self.resistances.keys():\n",
    "                if random.random() <= self.getMutProb():\n",
    "                    if resist[drug] == False:\n",
    "                        resist[drug] = True\n",
    "                    else:\n",
    "                        resist[drug] = False\n",
    "            return ResistantVirus(maxBirthProb=self.maxBirthProb, clearProb=self.clearProb, mutProb=self.mutProb, resistances=resist)\n",
    "        else:\n",
    "            raise NoChildException\n",
    "\n",
    "            \n",
    "\n",
    "class TreatedPatient(Patient):\n",
    "    \"\"\"\n",
    "    Representation of a patient. The patient is able to take drugs and his/her\n",
    "    virus population can acquire resistance to the drugs he/she takes.\n",
    "    \"\"\"\n",
    "\n",
    "    def __init__(self, viruses, maxPop):\n",
    "        \"\"\"\n",
    "        Initialization function, saves the viruses and maxPop parameters as\n",
    "        attributes. Also initializes the list of drugs being administered\n",
    "        (which should initially include no drugs).              \n",
    "\n",
    "        viruses: The list representing the virus population (a list of\n",
    "        virus instances)\n",
    "\n",
    "        maxPop: The  maximum virus population for this patient (an integer)\n",
    "        \"\"\"\n",
    "\n",
    "        super().__init__(viruses=viruses, maxPop=maxPop)\n",
    "        self.drugs = []\n",
    "\n",
    "\n",
    "    def addPrescription(self, newDrug):\n",
    "        \"\"\"\n",
    "        Administer a drug to this patient. After a prescription is added, the\n",
    "        drug acts on the virus population for all subsequent time steps. If the\n",
    "        newDrug is already prescribed to this patient, the method has no effect.\n",
    "\n",
    "        newDrug: The name of the drug to administer to the patient (a string).\n",
    "\n",
    "        postcondition: The list of drugs being administered to a patient is updated\n",
    "        \"\"\"\n",
    "        if newDrug not in self.drugs:\n",
    "            self.drugs.append(newDrug)\n",
    "        \n",
    "\n",
    "\n",
    "    def getPrescriptions(self):\n",
    "        \"\"\"\n",
    "        Returns the drugs that are being administered to this patient.\n",
    "\n",
    "        returns: The list of drug names (strings) being administered to this\n",
    "        patient.\n",
    "        \"\"\"\n",
    "\n",
    "        return self.drugs\n",
    "\n",
    "\n",
    "    def getResistPop(self, drugResist):\n",
    "        \"\"\"\n",
    "        Get the population of virus particles resistant to the drugs listed in\n",
    "        drugResist.       \n",
    "\n",
    "        drugResist: Which drug resistances to include in the population (a list\n",
    "        of strings - e.g. ['guttagonol'] or ['guttagonol', 'srinol'])\n",
    "\n",
    "        returns: The population of viruses (an integer) with resistances to all\n",
    "        drugs in the drugResist list.\n",
    "        \"\"\"\n",
    "        self.resistantToAll = []\n",
    "        for virus in self.viruses:\n",
    "            if all([virus.isResistantTo(drug) for drug in drugResist]):\n",
    "                self.resistantToAll.append(virus)\n",
    "        return len(self.resistantToAll)\n",
    "\n",
    "\n",
    "    def update(self):\n",
    "        \"\"\"\n",
    "        Update the state of the virus population in this patient for a single\n",
    "        time step. update() should execute these actions in order:\n",
    "\n",
    "        - Determine whether each virus particle survives and update the list of\n",
    "          virus particles accordingly\n",
    "\n",
    "        - The current population density is calculated. This population density\n",
    "          value is used until the next call to update().\n",
    "\n",
    "        - Based on this value of population density, determine whether each \n",
    "          virus particle should reproduce and add offspring virus particles to \n",
    "          the list of viruses in this patient.\n",
    "          The list of drugs being administered should be accounted for in the\n",
    "          determination of whether each virus particle reproduces.\n",
    "\n",
    "        returns: The total virus population at the end of the update (an\n",
    "        integer)\n",
    "        \"\"\"\n",
    "\n",
    "        viruses = self.viruses.copy()\n",
    "        for virus in viruses:\n",
    "            if virus.doesClear():\n",
    "                self.viruses.remove(virus)\n",
    "\n",
    "        popDensity = self.getTotalPop() / self.getMaxPop()\n",
    "\n",
    "        viruses_ = self.viruses.copy()\n",
    "        for virus in viruses_:\n",
    "            try:\n",
    "                vv = virus.reproduce(popDensity, self.getPrescriptions())\n",
    "                self.viruses.append(vv)\n",
    "            except NoChildException:\n",
    "                continue\n",
    "\n",
    "        return self.getTotalPop()\n",
    "\n",
    "\n",
    "\n",
    "#\n",
    "# PROBLEM 4\n",
    "#\n",
    "def simulationWithDrug(numViruses, maxPop, maxBirthProb, clearProb, resistances,\n",
    "                       mutProb, numTrials):\n",
    "    \"\"\"\n",
    "    Runs simulations and plots graphs for problem 5.\n",
    "\n",
    "    For each of numTrials trials, instantiates a patient, runs a simulation for\n",
    "    150 timesteps, adds guttagonol, and runs the simulation for an additional\n",
    "    150 timesteps.  At the end plots the average virus population size\n",
    "    (for both the total virus population and the guttagonol-resistant virus\n",
    "    population) as a function of time.\n",
    "\n",
    "    numViruses: number of ResistantVirus to create for patient (an integer)\n",
    "    maxPop: maximum virus population for patient (an integer)\n",
    "    maxBirthProb: Maximum reproduction probability (a float between 0-1)        \n",
    "    clearProb: maximum clearance probability (a float between 0-1)\n",
    "    resistances: a dictionary of drugs that each ResistantVirus is resistant to\n",
    "                 (e.g., {'guttagonol': False})\n",
    "    mutProb: mutation probability for each ResistantVirus particle\n",
    "             (a float between 0-1). \n",
    "    numTrials: number of simulation runs to execute (an integer)\n",
    "    \n",
    "    \"\"\"\n",
    "    data = np.zeros(300)\n",
    "    data1 = np.zeros(300)\n",
    "    for i in range(numTrials):\n",
    "        patient = TreatedPatient(viruses=[ResistantVirus(maxBirthProb=maxBirthProb, clearProb=clearProb, resistances=resistances, mutProb=mutProb) for _ in range(numViruses)], maxPop=maxPop)\n",
    "        for j in range(150):\n",
    "            patient.update()\n",
    "            data[j] += patient.getTotalPop()\n",
    "            data1[j] += patient.getResistPop(['guttagonol'])\n",
    "        patient.addPrescription('guttagonol')\n",
    "        for k in range(150):\n",
    "            patient.update()\n",
    "            data[k] += patient.getTotalPop()\n",
    "            data1[k] += patient.getResistPop(['guttagonol'])\n",
    "\n",
    "    data_avg = data/numTrials\n",
    "    data1_avg = data1/numTrials\n",
    "    \n",
    "    pylab.plot(list([float('{0:.1f}'.format(i)) for i in data_avg]), label = r'Non-resistant population')\n",
    "    pylab.plot(list([float('{0:.1f}'.format(j)) for j in data1_avg]), label = r'Guttagonol Resistant population')\n",
    "    pylab.xlabel(r'Number of steps')\n",
    "    pylab.ylabel(r'Average Virus Population')\n",
    "    pylab.title(r'Virus Simulation in Patient')\n",
    "    pylab.legend()\n",
    "    pylab.show()"
   ]
  },
  {
   "cell_type": "code",
   "execution_count": 291,
   "metadata": {},
   "outputs": [],
   "source": [
    "import numpy as np"
   ]
  },
  {
   "cell_type": "code",
   "execution_count": 304,
   "metadata": {},
   "outputs": [
    {
     "data": {
      "image/png": "[encoded data removed]",
      "text/plain": [
       "<Figure size 432x288 with 1 Axes>"
      ]
     },
     "metadata": {
      "needs_background": "light"
     },
     "output_type": "display_data"
    }
   ],
   "source": [
    "simulationWithDrug(numTrials=100, numViruses=100, maxBirthProb=0.1, maxPop=1000, clearProb=0.05, resistances={'guttagonol': False}, mutProb=0.005)"
   ]
  }
 ],
 "metadata": {
  "interpreter": {
   "hash": "31f2aee4e71d21fbe5cf8b01ff0e069b9275f58929596ceb00d14d90e3e16cd6"
  },
  "kernelspec": {
   "display_name": "Python 3.9.6 64-bit",
   "language": "python",
   "name": "python3"
  },
  "language_info": {
   "codemirror_mode": {
    "name": "ipython",
    "version": 3
   },
   "file_extension": ".py",
   "mimetype": "text/x-python",
   "name": "python",
   "nbconvert_exporter": "python",
   "pygments_lexer": "ipython3",
   "version": "3.9.7"
  },
  "orig_nbformat": 4
 },
 "nbformat": 4,
 "nbformat_minor": 2
}
